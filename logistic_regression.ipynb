{
 "cells": [
  {
   "cell_type": "code",
   "execution_count": 3,
   "id": "6bdd8caf",
   "metadata": {
    "tags": []
   },
   "outputs": [],
   "source": [
    "import numpy as np\n",
    "import pandas as pd\n",
    "from sklearn.linear_model import LogisticRegression"
   ]
  },
  {
   "cell_type": "markdown",
   "id": "115a5d31",
   "metadata": {},
   "source": [
    "### 1. Loading the data"
   ]
  },
  {
   "cell_type": "code",
   "execution_count": 4,
   "id": "021d8e2a",
   "metadata": {
    "tags": []
   },
   "outputs": [],
   "source": [
    "train_data = pd.read_csv('data/preprocessed_train.csv')\n",
    "test_data = pd.read_csv('data/preprocessed_test.csv')\n",
    "\n",
    "raw_test_data = pd.read_csv('data/test.csv')\n",
    "test_data_passengers_id = raw_test_data['PassengerId']\n",
    "\n",
    "train_data = train_data.drop('Unnamed: 0', axis=1)\n",
    "test_data = test_data.drop('Unnamed: 0', axis=1)"
   ]
  },
  {
   "cell_type": "markdown",
   "id": "1f069cd0-40c7-4260-82b3-28d31e69df2f",
   "metadata": {},
   "source": [
    "### 2. Model"
   ]
  },
  {
   "cell_type": "code",
   "execution_count": 5,
   "id": "30894195",
   "metadata": {
    "tags": []
   },
   "outputs": [],
   "source": [
    "X = train_data.drop('Survived', axis=1)\n",
    "y = train_data['Survived']"
   ]
  },
  {
   "cell_type": "code",
   "execution_count": 6,
   "id": "2c66d234",
   "metadata": {
    "tags": []
   },
   "outputs": [],
   "source": [
    "clf = LogisticRegression().fit(X, y)"
   ]
  },
  {
   "cell_type": "markdown",
   "id": "f86f217f-1e00-49fa-b578-dc8aa004ae96",
   "metadata": {},
   "source": [
    "### 3. Predictions"
   ]
  },
  {
   "cell_type": "code",
   "execution_count": 8,
   "id": "54717fed-7fb5-4fd4-bbd7-dda6a50a35cf",
   "metadata": {
    "tags": []
   },
   "outputs": [],
   "source": [
    "predictions = clf.predict(test_data)"
   ]
  },
  {
   "cell_type": "code",
   "execution_count": 9,
   "id": "e8054996-d8ae-4528-a212-7c759b78424c",
   "metadata": {
    "tags": []
   },
   "outputs": [],
   "source": [
    "df_predictions = pd.DataFrame({\n",
    "    'PassengerId': test_data_passengers_id,\n",
    "    'Survived': predictions})"
   ]
  },
  {
   "cell_type": "markdown",
   "id": "544f5856",
   "metadata": {},
   "source": [
    "### 4. Saving"
   ]
  },
  {
   "cell_type": "code",
   "execution_count": 11,
   "id": "9755adc4",
   "metadata": {
    "tags": []
   },
   "outputs": [],
   "source": [
    "df_predictions.to_csv('predictions/prediction4.csv', index=False)"
   ]
  }
 ],
 "metadata": {
  "kernelspec": {
   "display_name": "Python 3 (ipykernel)",
   "language": "python",
   "name": "python3"
  },
  "language_info": {
   "codemirror_mode": {
    "name": "ipython",
    "version": 3
   },
   "file_extension": ".py",
   "mimetype": "text/x-python",
   "name": "python",
   "nbconvert_exporter": "python",
   "pygments_lexer": "ipython3",
   "version": "3.11.3"
  }
 },
 "nbformat": 4,
 "nbformat_minor": 5
}
