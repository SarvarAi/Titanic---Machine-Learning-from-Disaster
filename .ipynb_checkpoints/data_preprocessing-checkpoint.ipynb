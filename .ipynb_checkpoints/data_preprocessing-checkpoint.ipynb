{
 "cells": [
  {
   "cell_type": "code",
   "execution_count": 82,
   "id": "e3ce2dfd-928b-4e6a-a6cf-0ec07b31cdec",
   "metadata": {
    "tags": []
   },
   "outputs": [],
   "source": [
    "import pandas as pd\n",
    "import numpy as np\n",
    "\n",
    "from sklearn.preprocessing import StandardScaler\n",
    "from sklearn.model_selection import train_test_split"
   ]
  },
  {
   "cell_type": "markdown",
   "id": "0ff335c4-768d-45f4-b7dd-dfff0a310a0f",
   "metadata": {},
   "source": [
    "### 1. Loading the data"
   ]
  },
  {
   "cell_type": "code",
   "execution_count": 22,
   "id": "fc2dcf7a-4be0-4775-a9b9-97591118ad89",
   "metadata": {
    "tags": []
   },
   "outputs": [],
   "source": [
    "train_path = 'data/train.csv'\n",
    "test_path =  'data/test.csv'"
   ]
  },
  {
   "cell_type": "code",
   "execution_count": 23,
   "id": "401a81fa-f0cd-43ad-a3c1-722b3e5527cb",
   "metadata": {
    "tags": []
   },
   "outputs": [],
   "source": [
    "train_raw_data = pd.read_csv(train_path)\n",
    "test_raw_data = pd.read_csv(test_path)"
   ]
  },
  {
   "cell_type": "markdown",
   "id": "fc06a1b4-1f7a-4daf-8924-c9949670ecef",
   "metadata": {},
   "source": [
    "### 2. Exploring the data"
   ]
  },
  {
   "cell_type": "code",
   "execution_count": 24,
   "id": "8c80320d-dbb3-4353-b898-50c844444d2c",
   "metadata": {
    "tags": []
   },
   "outputs": [
    {
     "data": {
      "text/html": [
       "<div>\n",
       "<style scoped>\n",
       "    .dataframe tbody tr th:only-of-type {\n",
       "        vertical-align: middle;\n",
       "    }\n",
       "\n",
       "    .dataframe tbody tr th {\n",
       "        vertical-align: top;\n",
       "    }\n",
       "\n",
       "    .dataframe thead th {\n",
       "        text-align: right;\n",
       "    }\n",
       "</style>\n",
       "<table border=\"1\" class=\"dataframe\">\n",
       "  <thead>\n",
       "    <tr style=\"text-align: right;\">\n",
       "      <th></th>\n",
       "      <th>PassengerId</th>\n",
       "      <th>Survived</th>\n",
       "      <th>Pclass</th>\n",
       "      <th>Name</th>\n",
       "      <th>Sex</th>\n",
       "      <th>Age</th>\n",
       "      <th>SibSp</th>\n",
       "      <th>Parch</th>\n",
       "      <th>Ticket</th>\n",
       "      <th>Fare</th>\n",
       "      <th>Cabin</th>\n",
       "      <th>Embarked</th>\n",
       "    </tr>\n",
       "  </thead>\n",
       "  <tbody>\n",
       "    <tr>\n",
       "      <th>0</th>\n",
       "      <td>1</td>\n",
       "      <td>0</td>\n",
       "      <td>3</td>\n",
       "      <td>Braund, Mr. Owen Harris</td>\n",
       "      <td>male</td>\n",
       "      <td>22.0</td>\n",
       "      <td>1</td>\n",
       "      <td>0</td>\n",
       "      <td>A/5 21171</td>\n",
       "      <td>7.2500</td>\n",
       "      <td>NaN</td>\n",
       "      <td>S</td>\n",
       "    </tr>\n",
       "    <tr>\n",
       "      <th>1</th>\n",
       "      <td>2</td>\n",
       "      <td>1</td>\n",
       "      <td>1</td>\n",
       "      <td>Cumings, Mrs. John Bradley (Florence Briggs Th...</td>\n",
       "      <td>female</td>\n",
       "      <td>38.0</td>\n",
       "      <td>1</td>\n",
       "      <td>0</td>\n",
       "      <td>PC 17599</td>\n",
       "      <td>71.2833</td>\n",
       "      <td>C85</td>\n",
       "      <td>C</td>\n",
       "    </tr>\n",
       "    <tr>\n",
       "      <th>2</th>\n",
       "      <td>3</td>\n",
       "      <td>1</td>\n",
       "      <td>3</td>\n",
       "      <td>Heikkinen, Miss. Laina</td>\n",
       "      <td>female</td>\n",
       "      <td>26.0</td>\n",
       "      <td>0</td>\n",
       "      <td>0</td>\n",
       "      <td>STON/O2. 3101282</td>\n",
       "      <td>7.9250</td>\n",
       "      <td>NaN</td>\n",
       "      <td>S</td>\n",
       "    </tr>\n",
       "    <tr>\n",
       "      <th>3</th>\n",
       "      <td>4</td>\n",
       "      <td>1</td>\n",
       "      <td>1</td>\n",
       "      <td>Futrelle, Mrs. Jacques Heath (Lily May Peel)</td>\n",
       "      <td>female</td>\n",
       "      <td>35.0</td>\n",
       "      <td>1</td>\n",
       "      <td>0</td>\n",
       "      <td>113803</td>\n",
       "      <td>53.1000</td>\n",
       "      <td>C123</td>\n",
       "      <td>S</td>\n",
       "    </tr>\n",
       "    <tr>\n",
       "      <th>4</th>\n",
       "      <td>5</td>\n",
       "      <td>0</td>\n",
       "      <td>3</td>\n",
       "      <td>Allen, Mr. William Henry</td>\n",
       "      <td>male</td>\n",
       "      <td>35.0</td>\n",
       "      <td>0</td>\n",
       "      <td>0</td>\n",
       "      <td>373450</td>\n",
       "      <td>8.0500</td>\n",
       "      <td>NaN</td>\n",
       "      <td>S</td>\n",
       "    </tr>\n",
       "  </tbody>\n",
       "</table>\n",
       "</div>"
      ],
      "text/plain": [
       "   PassengerId  Survived  Pclass  \\\n",
       "0            1         0       3   \n",
       "1            2         1       1   \n",
       "2            3         1       3   \n",
       "3            4         1       1   \n",
       "4            5         0       3   \n",
       "\n",
       "                                                Name     Sex   Age  SibSp  \\\n",
       "0                            Braund, Mr. Owen Harris    male  22.0      1   \n",
       "1  Cumings, Mrs. John Bradley (Florence Briggs Th...  female  38.0      1   \n",
       "2                             Heikkinen, Miss. Laina  female  26.0      0   \n",
       "3       Futrelle, Mrs. Jacques Heath (Lily May Peel)  female  35.0      1   \n",
       "4                           Allen, Mr. William Henry    male  35.0      0   \n",
       "\n",
       "   Parch            Ticket     Fare Cabin Embarked  \n",
       "0      0         A/5 21171   7.2500   NaN        S  \n",
       "1      0          PC 17599  71.2833   C85        C  \n",
       "2      0  STON/O2. 3101282   7.9250   NaN        S  \n",
       "3      0            113803  53.1000  C123        S  \n",
       "4      0            373450   8.0500   NaN        S  "
      ]
     },
     "execution_count": 24,
     "metadata": {},
     "output_type": "execute_result"
    }
   ],
   "source": [
    "train_raw_data.head()"
   ]
  },
  {
   "cell_type": "code",
   "execution_count": 25,
   "id": "4a54578b-b644-451f-a49d-90b957b376c9",
   "metadata": {
    "tags": []
   },
   "outputs": [
    {
     "data": {
      "text/plain": [
       "PassengerId      0\n",
       "Survived         0\n",
       "Pclass           0\n",
       "Name             0\n",
       "Sex              0\n",
       "Age            177\n",
       "SibSp            0\n",
       "Parch            0\n",
       "Ticket           0\n",
       "Fare             0\n",
       "Cabin          687\n",
       "Embarked         2\n",
       "dtype: int64"
      ]
     },
     "execution_count": 25,
     "metadata": {},
     "output_type": "execute_result"
    }
   ],
   "source": [
    "train_raw_data.isnull().sum()"
   ]
  },
  {
   "cell_type": "markdown",
   "id": "e7add79f-d07a-477e-87b7-cc6a9c01d37e",
   "metadata": {
    "tags": []
   },
   "source": [
    "#### Summary\n",
    "\n",
    "* Remove 'Cabin' column, because there are a lot of missing values\n",
    "* Deal with dummy variable such as 'Sex'\n",
    "* Remove 2 Embarked rows because we couldn't to fill it\n",
    "* Fill missing values in 'Age' column by the mean of ages\n",
    "* Remove 'Name', 'PassengerId', 'Ticket' columns, since they don't make any scence\n",
    "* Normilize all without 'Sex' -> 'Gender'"
   ]
  },
  {
   "cell_type": "markdown",
   "id": "c58d6a56-ff88-4dcb-a8e0-1cdbb8bcdae7",
   "metadata": {},
   "source": [
    "### 3. Removing unnecessary columns"
   ]
  },
  {
   "cell_type": "code",
   "execution_count": 26,
   "id": "791354e5-95d4-4a78-bd8f-f3bb9d924705",
   "metadata": {
    "tags": []
   },
   "outputs": [],
   "source": [
    "train_data = train_raw_data.copy()\n",
    "test_data = test_raw_data.copy()"
   ]
  },
  {
   "cell_type": "code",
   "execution_count": 27,
   "id": "d5700f30-20da-4847-b680-4d9de9d2c04f",
   "metadata": {
    "tags": []
   },
   "outputs": [],
   "source": [
    "# I am writing a function since I need to make each operation twice for\n",
    "# Train and test data\n",
    "\n",
    "def remove_unnec_columns(data):\n",
    "    data = data.drop(['PassengerId', 'Name', 'Ticket', 'Cabin'], axis=1)\n",
    "    return data"
   ]
  },
  {
   "cell_type": "code",
   "execution_count": 28,
   "id": "06af2d23-c243-43df-9f87-28c2f7957e66",
   "metadata": {
    "tags": []
   },
   "outputs": [],
   "source": [
    "train_data = remove_unnec_columns(train_data)\n",
    "test_data = remove_unnec_columns(test_data)"
   ]
  },
  {
   "cell_type": "markdown",
   "id": "8f4e9f65-c96f-417c-80f9-76cdbe6516ce",
   "metadata": {
    "tags": []
   },
   "source": [
    "### 4. Dealing with the dummy variables "
   ]
  },
  {
   "cell_type": "code",
   "execution_count": 29,
   "id": "5481aee9-aa87-4555-a340-33c2a3c37278",
   "metadata": {},
   "outputs": [],
   "source": [
    "def data_with_gender_column(data):\n",
    "    gender_dummy = pd.get_dummies(data['Sex'], drop_first=True)\n",
    "    gender_column = gender_dummy['male'].map({\n",
    "                                            True:1,\n",
    "                                            False:0\n",
    "                                            })\n",
    "    data['Gender'] = gender_column\n",
    "    data = data.drop(['Sex'], axis=1)\n",
    "    return data\n",
    "\n",
    "train_data = data_with_gender_column(train_data)\n",
    "test_data = data_with_gender_column(test_data)"
   ]
  },
  {
   "cell_type": "markdown",
   "id": "449cd3e0-e8be-4aca-b565-b775be5838b4",
   "metadata": {},
   "source": [
    "### 5. Filling the ages"
   ]
  },
  {
   "cell_type": "code",
   "execution_count": 32,
   "id": "1abda094-d254-4f47-bae7-6c78047cc920",
   "metadata": {
    "tags": []
   },
   "outputs": [],
   "source": [
    "def filling_age(data):\n",
    "    mean = data['Age'].mean()\n",
    "    data['Age'] = data['Age'].fillna(mean)\n",
    "    return data"
   ]
  },
  {
   "cell_type": "code",
   "execution_count": 35,
   "id": "30eb8fad-2087-4dc1-971d-11dd5a99e445",
   "metadata": {
    "tags": []
   },
   "outputs": [],
   "source": [
    "train_data = filling_age(train_data)\n",
    "test_data = filling_age(test_data)"
   ]
  },
  {
   "cell_type": "markdown",
   "id": "9b514790-4588-4904-9226-2dc3c293922c",
   "metadata": {
    "tags": []
   },
   "source": [
    "### 6. Dropping Nas"
   ]
  },
  {
   "cell_type": "code",
   "execution_count": 38,
   "id": "937883ea-d857-4e8e-8dd5-2307ce3b6279",
   "metadata": {
    "tags": []
   },
   "outputs": [],
   "source": [
    "train_data = train_data.dropna()\n",
    "test_data = test_data.dropna()"
   ]
  },
  {
   "cell_type": "markdown",
   "id": "f86f3b43-8f67-4b5f-aef4-64f641781a0e",
   "metadata": {
    "tags": []
   },
   "source": [
    "### 7. Checkpoint"
   ]
  },
  {
   "cell_type": "code",
   "execution_count": 41,
   "id": "3b7c717b-7acc-4072-84de-3f69625372ff",
   "metadata": {
    "tags": []
   },
   "outputs": [],
   "source": [
    "train_data_ch1 = train_data.copy()\n",
    "test_data_ch1 = test_data.copy()"
   ]
  },
  {
   "cell_type": "markdown",
   "id": "23d19ac7-fb30-4146-ba1d-9ee3017258d3",
   "metadata": {},
   "source": [
    "### 8. Dummy Embarked"
   ]
  },
  {
   "cell_type": "code",
   "execution_count": 52,
   "id": "6c5d0083-5cb1-4139-9432-b814ef23fa02",
   "metadata": {
    "tags": []
   },
   "outputs": [],
   "source": [
    "def dummy_embarked(data):\n",
    "    embarked = pd.get_dummies(data['Embarked'], drop_first=True)\n",
    "    q_cols = embarked['Q'].map({True:1, False:0})\n",
    "    s_cols = embarked['S'].map({True:1, False:0})\n",
    "    data['S'] = s_cols\n",
    "    data['Q'] = q_cols\n",
    "    data = data.drop(['Embarked'], axis=1)\n",
    "    return data"
   ]
  },
  {
   "cell_type": "code",
   "execution_count": 55,
   "id": "ff2d598e-b9eb-4a34-ad56-b0e65b8f36a7",
   "metadata": {
    "tags": []
   },
   "outputs": [],
   "source": [
    "unscaled_train_data = dummy_embarked(train_data_ch1)\n",
    "unscaled_test_data = dummy_embarked(test_data_ch1)"
   ]
  },
  {
   "cell_type": "markdown",
   "id": "f0634f87-0778-4ee8-a603-3cfc6e81c1ab",
   "metadata": {
    "tags": []
   },
   "source": [
    "### 9. Scaling"
   ]
  },
  {
   "cell_type": "code",
   "execution_count": 66,
   "id": "f7c80e12-5cd9-4331-b088-8bd77b925d5c",
   "metadata": {
    "tags": []
   },
   "outputs": [],
   "source": [
    "train_scaler = StandardScaler()\n",
    "test_scaler = StandardScaler()\n",
    "\n",
    "train_haveTo_scale = unscaled_train_data[['Pclass', 'Age', 'SibSp', 'Parch', 'Fare']]\n",
    "test_haveTo_scale = unscaled_test_data[['Pclass', 'Age', 'SibSp', 'Parch', 'Fare']]"
   ]
  },
  {
   "cell_type": "code",
   "execution_count": 71,
   "id": "969d3f32-4fd7-4b5c-bfd7-ede45c7bd703",
   "metadata": {
    "tags": []
   },
   "outputs": [],
   "source": [
    "train_scaler.fit(train_haveTo_scale)\n",
    "scaled_train = train_scaler.transform(train_haveTo_scale)\n",
    "\n",
    "test_scaler.fit(test_haveTo_scale)\n",
    "scaled_test = test_scaler.transform(test_haveTo_scale)"
   ]
  },
  {
   "cell_type": "code",
   "execution_count": 79,
   "id": "61445ee3-2dad-4b21-bdcb-7b0f577f108e",
   "metadata": {
    "tags": []
   },
   "outputs": [],
   "source": [
    "def add_scalers(data, np_scaled):\n",
    "    data.drop(['Pclass', 'Age', 'SibSp', 'Parch', 'Fare'], axis=1)\n",
    "    data['Pclass'] = np_scaled[:,0]\n",
    "    data['Age'] = np_scaled[:,1]\n",
    "    data['SibSp'] = np_scaled[:,2]\n",
    "    data['Parch'] = np_scaled[:,3]\n",
    "    data['Fare'] = np_scaled[:,4]\n",
    "    return data\n",
    "\n",
    "df_scaled_train = add_scalers(unscaled_train_data, scaled_train)\n",
    "df_scaled_test = add_scalers(unscaled_test_data, scaled_test)"
   ]
  },
  {
   "cell_type": "markdown",
   "id": "75afd744-b3af-4247-b5c0-2aa34372f275",
   "metadata": {
    "tags": []
   },
   "source": [
    "### 10. Balancing the data  "
   ]
  },
  {
   "cell_type": "code",
   "execution_count": 109,
   "id": "96659bc5-699c-42d9-9785-4c9ccbab4521",
   "metadata": {
    "tags": []
   },
   "outputs": [],
   "source": [
    "survived = df_scaled_train[df_scaled_train['Survived'] == 1]\n",
    "not_survived = df_scaled_train[df_scaled_train['Survived'] == 0]"
   ]
  },
  {
   "cell_type": "code",
   "execution_count": 110,
   "id": "17771226-cf32-4abe-a34c-a234815b73f5",
   "metadata": {
    "tags": []
   },
   "outputs": [],
   "source": [
    "shuffled_not_survived = not_survived.sample(frac=1, random_state=42)\n",
    "not_survived_balanced = shuffled_not_survived.iloc[:340]"
   ]
  },
  {
   "cell_type": "code",
   "execution_count": 113,
   "id": "94837059-a031-4e98-90cb-2d6a321abfa0",
   "metadata": {
    "tags": []
   },
   "outputs": [],
   "source": [
    "balanced_train_data = pd.concat([survived, not_survived_balanced], ignore_index=True)"
   ]
  },
  {
   "cell_type": "code",
   "execution_count": 115,
   "id": "df535de9-078e-4b7a-b2d7-647c07286242",
   "metadata": {
    "tags": []
   },
   "outputs": [],
   "source": [
    "balanced_train_data = balanced_train_data.sample(frac=1, random_state=42)"
   ]
  },
  {
   "cell_type": "markdown",
   "id": "cf52a2cf-b7a3-40b0-a943-a345c0b630b3",
   "metadata": {
    "tags": []
   },
   "source": [
    "### 11. Saving"
   ]
  },
  {
   "cell_type": "code",
   "execution_count": 117,
   "id": "7766173b-1257-4c46-9705-1e507c6893c8",
   "metadata": {
    "tags": []
   },
   "outputs": [],
   "source": [
    "balanced_train_data.to_csv('data/preprocessed_train.csv')\n",
    "df_scaled_test.to_csv('data/preprocessed_test.csv')"
   ]
  }
 ],
 "metadata": {
  "kernelspec": {
   "display_name": "tf_gpu_py39",
   "language": "python",
   "name": "tf_gpu_py39"
  },
  "language_info": {
   "codemirror_mode": {
    "name": "ipython",
    "version": 3
   },
   "file_extension": ".py",
   "mimetype": "text/x-python",
   "name": "python",
   "nbconvert_exporter": "python",
   "pygments_lexer": "ipython3",
   "version": "3.9.17"
  }
 },
 "nbformat": 4,
 "nbformat_minor": 5
}
